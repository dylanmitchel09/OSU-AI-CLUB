{
  "nbformat": 4,
  "nbformat_minor": 0,
  "metadata": {
    "colab": {
      "name": "Neural Network.ipynb",
      "provenance": [],
      "authorship_tag": "ABX9TyNy+es9Kd/BHKAU638miKGq",
      "include_colab_link": true
    },
    "kernelspec": {
      "name": "python3",
      "display_name": "Python 3"
    },
    "language_info": {
      "name": "python"
    }
  },
  "cells": [
    {
      "cell_type": "markdown",
      "metadata": {
        "id": "view-in-github",
        "colab_type": "text"
      },
      "source": [
        "<a href=\"https://colab.research.google.com/github/dylanmitchel09/OSU-AI-CLUB/blob/main/Neural_Network.ipynb\" target=\"_parent\"><img src=\"https://colab.research.google.com/assets/colab-badge.svg\" alt=\"Open In Colab\"/></a>"
      ]
    },
    {
      "cell_type": "markdown",
      "metadata": {
        "id": "DuHvO-67dNG7"
      },
      "source": [
        "#Simple Neural Network\n",
        "#Oregon State University AI Club\n",
        "#October 12, 2021"
      ]
    },
    {
      "cell_type": "markdown",
      "metadata": {
        "id": "JeF7fquvdfGC"
      },
      "source": [
        "#Import numpy"
      ]
    },
    {
      "cell_type": "code",
      "metadata": {
        "id": "0chf_tC2dJpx"
      },
      "source": [
        "import numpy as np"
      ],
      "execution_count": 1,
      "outputs": []
    },
    {
      "cell_type": "markdown",
      "metadata": {
        "id": "dx1T_XyUdjhq"
      },
      "source": [
        "#Sigmoid\n",
        "#Keeping the output value 0 or 1"
      ]
    },
    {
      "cell_type": "code",
      "metadata": {
        "id": "TsmhdxL1dmLc"
      },
      "source": [
        "def sigmoid(x, deriv=False):\n",
        "    if deriv:\n",
        "        return sigmoid(x)*(1-sigmoid(x))\n",
        "    return 1.0 / (1 + np.exp(-x))"
      ],
      "execution_count": 2,
      "outputs": []
    },
    {
      "cell_type": "markdown",
      "metadata": {
        "id": "lX2dlY5MdoVH"
      },
      "source": [
        "# Make the array as the input"
      ]
    },
    {
      "cell_type": "code",
      "metadata": {
        "id": "vswdZdm5dr9_"
      },
      "source": [
        "X = np.array ([\n",
        "    [1, 2, 3]\n",
        "], dtype=float)"
      ],
      "execution_count": 3,
      "outputs": []
    },
    {
      "cell_type": "markdown",
      "metadata": {
        "id": "7res59wmdusr"
      },
      "source": [
        "# Set up the prediction"
      ]
    },
    {
      "cell_type": "code",
      "metadata": {
        "id": "IoaCdUB9dwq4"
      },
      "source": [
        "Y = np.array([\n",
        "    [0.67]\n",
        "], dtype=float)"
      ],
      "execution_count": 4,
      "outputs": []
    },
    {
      "cell_type": "markdown",
      "metadata": {
        "id": "wZl9FviKdyqg"
      },
      "source": [
        "# Set up the weight"
      ]
    },
    {
      "cell_type": "code",
      "metadata": {
        "id": "qE48FI1md0R1"
      },
      "source": [
        "W = np.array([\n",
        "    [0.01],\n",
        "    [0.005],\n",
        "    [0.0010]\n",
        "], dtype=float)\n",
        "\n",
        "#w1 = np.random.randn(3, 13)    #Another method with random\n",
        "#w2 = np.random.randn(13, 1)"
      ],
      "execution_count": 5,
      "outputs": []
    },
    {
      "cell_type": "markdown",
      "metadata": {
        "id": "jJG_A-RDd9sQ"
      },
      "source": [
        "# Change the bias here\n"
      ]
    },
    {
      "cell_type": "code",
      "metadata": {
        "id": "glWDaHgid-kz"
      },
      "source": [
        "bias = 0\n"
      ],
      "execution_count": 6,
      "outputs": []
    },
    {
      "cell_type": "markdown",
      "metadata": {
        "id": "mZQKzdD5eAck"
      },
      "source": [
        "# Change the learning rate here\n"
      ]
    },
    {
      "cell_type": "code",
      "metadata": {
        "id": "iNO_Sed8eCW8"
      },
      "source": [
        "lr = 0.1\n"
      ],
      "execution_count": 7,
      "outputs": []
    },
    {
      "cell_type": "markdown",
      "metadata": {
        "id": "Y-h-a8YdeEE9"
      },
      "source": [
        "# Preactivation\n"
      ]
    },
    {
      "cell_type": "code",
      "metadata": {
        "colab": {
          "base_uri": "https://localhost:8080/"
        },
        "id": "E2VKOavceHOH",
        "outputId": "e51c4db0-f5a1-495b-dd36-2855634f24a2"
      },
      "source": [
        "for i in range(100):\n",
        "    preactivation = X.T[0]*W[0] + X.T[1]*W[1] + X.T[2]*W[2]+bias #Method 1\n",
        "    #preactivation = np.dot(X, W)\t                             #Method 2\n",
        "    #preactivation = X @ W\t                                     #Method 3\n",
        "    print(\"Preactivation\", preactivation)"
      ],
      "execution_count": 8,
      "outputs": [
        {
          "output_type": "stream",
          "name": "stdout",
          "text": [
            "Preactivation [0.023]\n",
            "Preactivation [0.023]\n",
            "Preactivation [0.023]\n",
            "Preactivation [0.023]\n",
            "Preactivation [0.023]\n",
            "Preactivation [0.023]\n",
            "Preactivation [0.023]\n",
            "Preactivation [0.023]\n",
            "Preactivation [0.023]\n",
            "Preactivation [0.023]\n",
            "Preactivation [0.023]\n",
            "Preactivation [0.023]\n",
            "Preactivation [0.023]\n",
            "Preactivation [0.023]\n",
            "Preactivation [0.023]\n",
            "Preactivation [0.023]\n",
            "Preactivation [0.023]\n",
            "Preactivation [0.023]\n",
            "Preactivation [0.023]\n",
            "Preactivation [0.023]\n",
            "Preactivation [0.023]\n",
            "Preactivation [0.023]\n",
            "Preactivation [0.023]\n",
            "Preactivation [0.023]\n",
            "Preactivation [0.023]\n",
            "Preactivation [0.023]\n",
            "Preactivation [0.023]\n",
            "Preactivation [0.023]\n",
            "Preactivation [0.023]\n",
            "Preactivation [0.023]\n",
            "Preactivation [0.023]\n",
            "Preactivation [0.023]\n",
            "Preactivation [0.023]\n",
            "Preactivation [0.023]\n",
            "Preactivation [0.023]\n",
            "Preactivation [0.023]\n",
            "Preactivation [0.023]\n",
            "Preactivation [0.023]\n",
            "Preactivation [0.023]\n",
            "Preactivation [0.023]\n",
            "Preactivation [0.023]\n",
            "Preactivation [0.023]\n",
            "Preactivation [0.023]\n",
            "Preactivation [0.023]\n",
            "Preactivation [0.023]\n",
            "Preactivation [0.023]\n",
            "Preactivation [0.023]\n",
            "Preactivation [0.023]\n",
            "Preactivation [0.023]\n",
            "Preactivation [0.023]\n",
            "Preactivation [0.023]\n",
            "Preactivation [0.023]\n",
            "Preactivation [0.023]\n",
            "Preactivation [0.023]\n",
            "Preactivation [0.023]\n",
            "Preactivation [0.023]\n",
            "Preactivation [0.023]\n",
            "Preactivation [0.023]\n",
            "Preactivation [0.023]\n",
            "Preactivation [0.023]\n",
            "Preactivation [0.023]\n",
            "Preactivation [0.023]\n",
            "Preactivation [0.023]\n",
            "Preactivation [0.023]\n",
            "Preactivation [0.023]\n",
            "Preactivation [0.023]\n",
            "Preactivation [0.023]\n",
            "Preactivation [0.023]\n",
            "Preactivation [0.023]\n",
            "Preactivation [0.023]\n",
            "Preactivation [0.023]\n",
            "Preactivation [0.023]\n",
            "Preactivation [0.023]\n",
            "Preactivation [0.023]\n",
            "Preactivation [0.023]\n",
            "Preactivation [0.023]\n",
            "Preactivation [0.023]\n",
            "Preactivation [0.023]\n",
            "Preactivation [0.023]\n",
            "Preactivation [0.023]\n",
            "Preactivation [0.023]\n",
            "Preactivation [0.023]\n",
            "Preactivation [0.023]\n",
            "Preactivation [0.023]\n",
            "Preactivation [0.023]\n",
            "Preactivation [0.023]\n",
            "Preactivation [0.023]\n",
            "Preactivation [0.023]\n",
            "Preactivation [0.023]\n",
            "Preactivation [0.023]\n",
            "Preactivation [0.023]\n",
            "Preactivation [0.023]\n",
            "Preactivation [0.023]\n",
            "Preactivation [0.023]\n",
            "Preactivation [0.023]\n",
            "Preactivation [0.023]\n",
            "Preactivation [0.023]\n",
            "Preactivation [0.023]\n",
            "Preactivation [0.023]\n",
            "Preactivation [0.023]\n"
          ]
        }
      ]
    },
    {
      "cell_type": "markdown",
      "metadata": {
        "id": "q28vXsUWeV0x"
      },
      "source": [
        "#Activation"
      ]
    },
    {
      "cell_type": "code",
      "metadata": {
        "id": "JX-ZIZC3eYDd"
      },
      "source": [
        "    activation = sigmoid(preactivation)\n",
        "    output = activation"
      ],
      "execution_count": 9,
      "outputs": []
    },
    {
      "cell_type": "markdown",
      "metadata": {
        "id": "A3zpRkLkea7E"
      },
      "source": [
        "#Finding the loss\n"
      ]
    },
    {
      "cell_type": "code",
      "metadata": {
        "colab": {
          "base_uri": "https://localhost:8080/"
        },
        "id": "6qV6Q0IVed5P",
        "outputId": "4a9fe526-44dc-4c12-ccc2-672fd1faa1a7"
      },
      "source": [
        "    loss = (output - Y)**2\n",
        "    print(\"loss\", loss)"
      ],
      "execution_count": 10,
      "outputs": [
        {
          "output_type": "stream",
          "name": "stdout",
          "text": [
            "loss [[0.02697815]]\n"
          ]
        }
      ]
    },
    {
      "cell_type": "markdown",
      "metadata": {
        "id": "gbaQ8pKvekQG"
      },
      "source": [
        "#Finding the gradient loss\n",
        "#Dl/Da"
      ]
    },
    {
      "cell_type": "code",
      "metadata": {
        "id": "jEr5Qhupen4V"
      },
      "source": [
        "    loss_gradient = 2*(output - Y)\n"
      ],
      "execution_count": 11,
      "outputs": []
    },
    {
      "cell_type": "markdown",
      "metadata": {
        "id": "WqnM2ZBDeqUj"
      },
      "source": [
        "#Activation gradient\n",
        "#Da/Dp"
      ]
    },
    {
      "cell_type": "code",
      "metadata": {
        "id": "saO2m10Qeud4"
      },
      "source": [
        "    activation_gradient = sigmoid(preactivation, True)\n"
      ],
      "execution_count": 12,
      "outputs": []
    },
    {
      "cell_type": "markdown",
      "metadata": {
        "id": "HAjWaQXCewJV"
      },
      "source": [
        "#Update the bias\n"
      ]
    },
    {
      "cell_type": "code",
      "metadata": {
        "id": "e_Pmcqmveykp"
      },
      "source": [
        "    updateBias = activation_gradient*loss_gradient*1\n"
      ],
      "execution_count": 13,
      "outputs": []
    },
    {
      "cell_type": "markdown",
      "metadata": {
        "id": "S_Ruzke2e0Hd"
      },
      "source": [
        "#Preactivation gradient\n",
        "#Dp/w"
      ]
    },
    {
      "cell_type": "code",
      "metadata": {
        "id": "IZjXBkF6f4Dk"
      },
      "source": [
        "    preactivation_gradient = X"
      ],
      "execution_count": 14,
      "outputs": []
    },
    {
      "cell_type": "markdown",
      "metadata": {
        "id": "9ArnvrjBf7lU"
      },
      "source": [
        "#Minimize the loss\n",
        "#Dl/w"
      ]
    },
    {
      "cell_type": "code",
      "metadata": {
        "id": "QGGc8sa5f_Tz"
      },
      "source": [
        "    error_gradient = (loss_gradient * activation_gradient * preactivation_gradient).T"
      ],
      "execution_count": 15,
      "outputs": []
    },
    {
      "cell_type": "markdown",
      "metadata": {
        "id": "9sQ7AaAggBnh"
      },
      "source": [
        "#Update the weights\n"
      ]
    },
    {
      "cell_type": "code",
      "metadata": {
        "id": "OgPz_NRggEdo"
      },
      "source": [
        "    W -= lr*error_gradient\n",
        "    bias -= updateBias"
      ],
      "execution_count": 16,
      "outputs": []
    },
    {
      "cell_type": "markdown",
      "metadata": {
        "id": "0z8Fr6yggHC2"
      },
      "source": [
        "#Print everything"
      ]
    },
    {
      "cell_type": "code",
      "metadata": {
        "colab": {
          "base_uri": "https://localhost:8080/"
        },
        "id": "2jlutgbrgLT3",
        "outputId": "88ec5637-d799-407f-b20d-8dc00ad334a0"
      },
      "source": [
        "print(output)"
      ],
      "execution_count": 17,
      "outputs": [
        {
          "output_type": "stream",
          "name": "stdout",
          "text": [
            "[0.50574975]\n"
          ]
        }
      ]
    }
  ]
}